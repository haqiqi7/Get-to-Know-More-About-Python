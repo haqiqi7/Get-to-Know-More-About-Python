{
  "nbformat": 4,
  "nbformat_minor": 0,
  "metadata": {
    "colab": {
      "name": "List Comprehension.ipynb",
      "provenance": [],
      "collapsed_sections": []
    },
    "kernelspec": {
      "name": "python3",
      "display_name": "Python 3"
    },
    "language_info": {
      "name": "python"
    }
  },
  "cells": [
    {
      "cell_type": "markdown",
      "source": [
        "# LIST COMPREHENSION"
      ],
      "metadata": {
        "id": "3JAgpVxGCtrM"
      }
    },
    {
      "cell_type": "markdown",
      "source": [
        "List comprehension offers a shorter syntax when you want to create a new list based on the values of an existing list.\n",
        "\n",
        "syntax = [expression for item in list]"
      ],
      "metadata": {
        "id": "8zoGdojoC4J-"
      }
    },
    {
      "cell_type": "code",
      "execution_count": null,
      "metadata": {
        "colab": {
          "base_uri": "https://localhost:8080/"
        },
        "id": "RyExSkvVACv9",
        "outputId": "11431ecd-376f-4979-a292-1bd873ca7f56"
      },
      "outputs": [
        {
          "output_type": "stream",
          "name": "stdout",
          "text": [
            "[4, 25, 49]\n"
          ]
        }
      ],
      "source": [
        "#Iterating through a integer without Using List Comprehension\n",
        "number = [2,5,7]\n",
        "new_list=[]\n",
        "\n",
        "for i in number:\n",
        "  new_list.append(i**2)\n",
        "print(new_list)"
      ]
    },
    {
      "cell_type": "code",
      "source": [
        "#Iterating through a integer Using List Comprehension\n",
        "number = [1,2,3]\n",
        "\n",
        "new_list = [i**2 for i in number]\n",
        "print(new_list)"
      ],
      "metadata": {
        "colab": {
          "base_uri": "https://localhost:8080/"
        },
        "id": "8qGL5DLdJT_z",
        "outputId": "eec383b3-98ad-44f3-a2ea-616b92b2f3ae"
      },
      "execution_count": null,
      "outputs": [
        {
          "output_type": "stream",
          "name": "stdout",
          "text": [
            "[1, 4, 9]\n"
          ]
        }
      ]
    },
    {
      "cell_type": "markdown",
      "source": [
        "**Conditionals in List Comprehension**"
      ],
      "metadata": {
        "id": "9Cp2mmtnnUq4"
      }
    },
    {
      "cell_type": "markdown",
      "source": [
        "when using if for list comprehension we can use syntax:\n",
        "\n",
        " [expression for item in iterable if condition == True] "
      ],
      "metadata": {
        "id": "_oWFlWlwjary"
      }
    },
    {
      "cell_type": "code",
      "source": [
        " # Using if without List Comprehension\n",
        "number = range(20)\n",
        "new_number=[]\n",
        " \n",
        "for i in number:\n",
        "  if i < 10:\n",
        "   new_number.append(i)\n",
        "print(new_number)"
      ],
      "metadata": {
        "colab": {
          "base_uri": "https://localhost:8080/"
        },
        "id": "5UKIlPjZkFO7",
        "outputId": "d808ca51-cc9f-4f51-de0b-299939c6734f"
      },
      "execution_count": null,
      "outputs": [
        {
          "output_type": "stream",
          "name": "stdout",
          "text": [
            "[0, 1, 2, 3, 4, 5, 6, 7, 8, 9]\n"
          ]
        }
      ]
    },
    {
      "cell_type": "code",
      "source": [
        " # Using if with List Comprehension\n",
        "number = range(20)\n",
        "new_number = [i for i in number if i<10]\n",
        "print(new_number)"
      ],
      "metadata": {
        "colab": {
          "base_uri": "https://localhost:8080/"
        },
        "id": "ekMxvCYfV7MP",
        "outputId": "b67cc453-1a79-4698-d8a1-37af269244f8"
      },
      "execution_count": null,
      "outputs": [
        {
          "output_type": "stream",
          "name": "stdout",
          "text": [
            "[0, 1, 2, 3, 4, 5, 6, 7, 8, 9]\n"
          ]
        }
      ]
    },
    {
      "cell_type": "code",
      "source": [
        "# Using Nested IF without List Comprehension\n",
        "number = range(20)\n",
        "new_number= []\n",
        "\n",
        "for i in number:\n",
        "  if i % 2 ==0:\n",
        "    if i % 4 == 0:\n",
        "      new_number.append(i)\n",
        "print(new_number)"
      ],
      "metadata": {
        "colab": {
          "base_uri": "https://localhost:8080/"
        },
        "id": "8mspDtD0lN6V",
        "outputId": "dd8ab53e-49cb-45dc-c29d-50c6342e873d"
      },
      "execution_count": null,
      "outputs": [
        {
          "output_type": "stream",
          "name": "stdout",
          "text": [
            "[0, 4, 8, 12, 16]\n"
          ]
        }
      ]
    },
    {
      "cell_type": "code",
      "source": [
        "# Using Nested IF with List Comprehension\n",
        "number = range(20)\n",
        "new_number = [i for i in number if i % 2 == 0 if i % 4 == 0]\n",
        "print(new_number)"
      ],
      "metadata": {
        "colab": {
          "base_uri": "https://localhost:8080/"
        },
        "id": "WQ6rIv66hD4j",
        "outputId": "91b538d4-7589-4f99-baa2-7d9a0a2d9d47"
      },
      "execution_count": null,
      "outputs": [
        {
          "output_type": "stream",
          "name": "stdout",
          "text": [
            "[0, 4, 8, 12, 16]\n"
          ]
        }
      ]
    },
    {
      "cell_type": "markdown",
      "source": [
        "**Nested Loops in List Comprehension**"
      ],
      "metadata": {
        "id": "EQzR1uLRm_U1"
      }
    },
    {
      "cell_type": "code",
      "source": [
        "# nested loops without list comprehension\n",
        "number = [7,8,3,1,2]\n",
        "number2 = [9,0,7,6,3]\n",
        "\n",
        "new_list= []\n",
        "\n",
        "for i in number:\n",
        "  for j in number2:\n",
        "    if i == j:\n",
        "      new_list.append(i)\n",
        "print(new_list)"
      ],
      "metadata": {
        "colab": {
          "base_uri": "https://localhost:8080/"
        },
        "id": "hhtpGVUKm-Uz",
        "outputId": "4b699950-8b41-4f55-b01e-ce7186a100ce"
      },
      "execution_count": null,
      "outputs": [
        {
          "output_type": "stream",
          "name": "stdout",
          "text": [
            "[7, 3]\n"
          ]
        }
      ]
    },
    {
      "cell_type": "code",
      "source": [
        "# nested loops with list comprehension\n",
        "number = [7,8,3,1,2]\n",
        "number2 = [9,0,7,6,3]\n",
        "\n",
        "new_number = [i for i in number for j in number2 if i == j]\n",
        "print(new_number)"
      ],
      "metadata": {
        "colab": {
          "base_uri": "https://localhost:8080/"
        },
        "id": "6M9_rcyOr3ee",
        "outputId": "52f81a0f-b553-472b-bf38-c013bc4cc920"
      },
      "execution_count": null,
      "outputs": [
        {
          "output_type": "stream",
          "name": "stdout",
          "text": [
            "[7, 3]\n"
          ]
        }
      ]
    }
  ]
}