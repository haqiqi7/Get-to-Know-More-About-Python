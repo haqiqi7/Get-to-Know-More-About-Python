{
 "cells": [
  {
   "cell_type": "code",
   "execution_count": 1,
   "id": "b49039ec",
   "metadata": {},
   "outputs": [
    {
     "name": "stdout",
     "output_type": "stream",
     "text": [
      "peroleh : 0\n",
      "dapat angka 0\n",
      "peroleh : a\n"
     ]
    },
    {
     "ename": "ValueError",
     "evalue": "invalid literal for int() with base 10: 'a'",
     "output_type": "error",
     "traceback": [
      "\u001b[1;31m---------------------------------------------------------------------------\u001b[0m",
      "\u001b[1;31mValueError\u001b[0m                                Traceback (most recent call last)",
      "Input \u001b[1;32mIn [1]\u001b[0m, in \u001b[0;36m<cell line: 3>\u001b[1;34m()\u001b[0m\n\u001b[0;32m      3\u001b[0m \u001b[38;5;28;01mwhile\u001b[39;00m(n \u001b[38;5;241m!=\u001b[39m \u001b[38;5;124m\"\u001b[39m\u001b[38;5;124mz\u001b[39m\u001b[38;5;124m\"\u001b[39m):\n\u001b[0;32m      4\u001b[0m     n \u001b[38;5;241m=\u001b[39m (\u001b[38;5;28minput\u001b[39m(\u001b[38;5;124m\"\u001b[39m\u001b[38;5;124mperoleh : \u001b[39m\u001b[38;5;124m\"\u001b[39m))\n\u001b[1;32m----> 5\u001b[0m     \u001b[38;5;28mprint\u001b[39m(\u001b[38;5;124mf\u001b[39m\u001b[38;5;124m\"\u001b[39m\u001b[38;5;124mdapat angka \u001b[39m\u001b[38;5;132;01m{\u001b[39;00m\u001b[38;5;28mint\u001b[39m(n)\u001b[38;5;132;01m}\u001b[39;00m\u001b[38;5;124m\"\u001b[39m)\n",
      "\u001b[1;31mValueError\u001b[0m: invalid literal for int() with base 10: 'a'"
     ]
    }
   ],
   "source": [
    "n = \" \"\n",
    "\n",
    "while(n != \"z\"):\n",
    "    n = (input(\"peroleh : \"))\n",
    "    print(f\"dapat angka {int(n)}\")"
   ]
  },
  {
   "cell_type": "code",
   "execution_count": 2,
   "id": "777d3c83",
   "metadata": {},
   "outputs": [
    {
     "ename": "SyntaxError",
     "evalue": "f-string: empty expression not allowed (1254573002.py, line 5)",
     "output_type": "error",
     "traceback": [
      "\u001b[1;36m  Input \u001b[1;32mIn [2]\u001b[1;36m\u001b[0m\n\u001b[1;33m    print(f\"dapat angka {}\".format(int(n)))\u001b[0m\n\u001b[1;37m                           ^\u001b[0m\n\u001b[1;31mSyntaxError\u001b[0m\u001b[1;31m:\u001b[0m f-string: empty expression not allowed\n"
     ]
    }
   ],
   "source": [
    "n = \" \"\n",
    "\n",
    "while(n != \"exit\"):\n",
    "    n = (input(\"peroleh : \"))\n",
    "    print(f\"dapat angka {}\".format(int(n)))"
   ]
  },
  {
   "cell_type": "code",
   "execution_count": 3,
   "id": "99890fac",
   "metadata": {},
   "outputs": [
    {
     "name": "stdout",
     "output_type": "stream",
     "text": [
      "peroleh : 20\n",
      "dapat angka 20\n",
      "peroleh : 30\n",
      "dapat angka 30\n",
      "peroleh : abc\n",
      "dapat error <class 'ValueError'>\n",
      "peroleh : exit\n",
      "dapat error <class 'ValueError'>\n"
     ]
    }
   ],
   "source": [
    "import sys\n",
    "\n",
    "n = \" \"\n",
    "\n",
    "while(n != \"exit\"):\n",
    "    try:\n",
    "        n = (input(\"The Input : \"))\n",
    "        print(f\"You get {int(n)}\")\n",
    "    except:\n",
    "        if n == \"z\":\n",
    "            pass\n",
    "        else:\n",
    "            print(\"The Error {}\".format(sys.exc_info()[0]))"
   ]
  }
 ],
 "metadata": {
  "kernelspec": {
   "display_name": "Python 3 (ipykernel)",
   "language": "python",
   "name": "python3"
  },
  "language_info": {
   "codemirror_mode": {
    "name": "ipython",
    "version": 3
   },
   "file_extension": ".py",
   "mimetype": "text/x-python",
   "name": "python",
   "nbconvert_exporter": "python",
   "pygments_lexer": "ipython3",
   "version": "3.9.7"
  }
 },
 "nbformat": 4,
 "nbformat_minor": 5
}
