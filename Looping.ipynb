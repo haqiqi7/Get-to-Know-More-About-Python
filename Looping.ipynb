{
 "cells": [
  {
   "cell_type": "markdown",
   "id": "a3e25237",
   "metadata": {},
   "source": [
    "### For"
   ]
  },
  {
   "cell_type": "code",
   "execution_count": 1,
   "id": "b7f9ff98",
   "metadata": {},
   "outputs": [
    {
     "name": "stdout",
     "output_type": "stream",
     "text": [
      "d\n",
      "a\n",
      "t\n",
      "a\n"
     ]
    }
   ],
   "source": [
    "# For\n",
    "for i in \"data\":\n",
    "    print(i)"
   ]
  },
  {
   "cell_type": "code",
   "execution_count": 2,
   "id": "353e35e8",
   "metadata": {},
   "outputs": [
    {
     "name": "stdout",
     "output_type": "stream",
     "text": [
      "huruf d\n",
      "huruf a\n",
      "huruf t\n",
      "huruf a\n"
     ]
    }
   ],
   "source": [
    "# Using format method() and referring\n",
    "for i in \"data\":\n",
    "    print(f\"huruf {i}\")"
   ]
  },
  {
   "cell_type": "code",
   "execution_count": 3,
   "id": "c87e0e23",
   "metadata": {},
   "outputs": [
    {
     "name": "stdout",
     "output_type": "stream",
     "text": [
      "1\n",
      "2\n",
      "3\n",
      "4\n",
      "5\n",
      "6\n"
     ]
    }
   ],
   "source": [
    "# Using range function \n",
    "for i in range(1,7):\n",
    "    print(i)"
   ]
  },
  {
   "cell_type": "code",
   "execution_count": 6,
   "id": "c2cefc85",
   "metadata": {},
   "outputs": [
    {
     "name": "stdout",
     "output_type": "stream",
     "text": [
      "1 adalah ganjil\n",
      "2 adalah genap\n",
      "3 adalah ganjil\n",
      "4 adalah genap\n",
      "5 adalah ganjil\n",
      "6 adalah genap\n"
     ]
    }
   ],
   "source": [
    "# Using conditional statement\n",
    "for i in range(1,7):\n",
    "    if i % 2 == 0 :\n",
    "        print(f\"{i} adalah genap\")\n",
    "    else:\n",
    "        print(f\"{i} adalah ganjil\")"
   ]
  },
  {
   "cell_type": "code",
   "execution_count": 4,
   "id": "06671a76",
   "metadata": {},
   "outputs": [
    {
     "name": "stdout",
     "output_type": "stream",
     "text": [
      "2 adalah genap\n"
     ]
    }
   ],
   "source": [
    "# Using break keyword\n",
    "for i in range(1,7):\n",
    "    if i % 2 == 0 :\n",
    "        print(f\"{i} adalah genap\")\n",
    "        break"
   ]
  },
  {
   "cell_type": "code",
   "execution_count": 5,
   "id": "40ca4803",
   "metadata": {},
   "outputs": [
    {
     "name": "stdout",
     "output_type": "stream",
     "text": [
      "2 adalah genap\n",
      "4 adalah genap\n",
      "6 adalah genap\n"
     ]
    }
   ],
   "source": [
    "# Using continue keyword\n",
    "for i in range(1,7):\n",
    "    if i % 2 == 0 :\n",
    "        print(f\"{i} adalah genap\")\n",
    "        continue"
   ]
  },
  {
   "cell_type": "code",
   "execution_count": 18,
   "id": "d8c3537b",
   "metadata": {},
   "outputs": [
    {
     "name": "stdout",
     "output_type": "stream",
     "text": [
      "1 adalah ganjil\n",
      "3 adalah ganjil\n",
      "5 adalah ganjil\n",
      "7 adalah ganjil\n",
      "9 adalah ganjil\n",
      "11 adalah ganjil\n",
      "13 adalah ganjil\n",
      "15 adalah ganjil\n",
      "17 adalah ganjil\n",
      "19 adalah ganjil\n"
     ]
    }
   ],
   "source": [
    "# Task 1\n",
    "for i in range(0,20):\n",
    "    if i % 2 != 0 :\n",
    "        print(f\"{i} adalah ganjil\")"
   ]
  },
  {
   "cell_type": "markdown",
   "id": "5bdee126",
   "metadata": {},
   "source": [
    "### While"
   ]
  },
  {
   "cell_type": "code",
   "execution_count": 1,
   "id": "95fcac18",
   "metadata": {},
   "outputs": [
    {
     "name": "stdout",
     "output_type": "stream",
     "text": [
      "Enter number : 0\n",
      "bilangan ke 1\n",
      "bilangan ke 2\n",
      "bilangan ke 3\n",
      "bilangan ke 4\n",
      "bilangan ke 5\n"
     ]
    }
   ],
   "source": [
    "# Using input function\n",
    "angka = int(input(\"Enter number : \"))\n",
    "\n",
    "while angka< 5:\n",
    "    angka += 1\n",
    "    print(f\"bilangan ke {angka}\")"
   ]
  },
  {
   "cell_type": "code",
   "execution_count": 5,
   "id": "6e461885",
   "metadata": {},
   "outputs": [
    {
     "name": "stdout",
     "output_type": "stream",
     "text": [
      "Enter number : 0\n",
      "2\n",
      "4\n",
      "6\n",
      "8\n"
     ]
    }
   ],
   "source": [
    "# Using break keyword\n",
    "angka = int(input(\"Enter number : \"))\n",
    "\n",
    "while angka< 20:\n",
    "    angka += 2\n",
    "    if angka == 10:\n",
    "        break\n",
    "    print(angka)"
   ]
  },
  {
   "cell_type": "code",
   "execution_count": 6,
   "id": "a212c74b",
   "metadata": {},
   "outputs": [
    {
     "name": "stdout",
     "output_type": "stream",
     "text": [
      "Enter number : 0\n",
      "2\n",
      "4\n",
      "6\n",
      "8\n",
      "12\n",
      "14\n",
      "16\n",
      "18\n",
      "20\n"
     ]
    }
   ],
   "source": [
    "# Using continue keyword\n",
    "angka = int(input(\"Enter number : \"))\n",
    "\n",
    "while angka< 20:\n",
    "    angka += 2\n",
    "    if angka == 10:\n",
    "        continue\n",
    "    print(angka)"
   ]
  }
 ],
 "metadata": {
  "kernelspec": {
   "display_name": "Python 3 (ipykernel)",
   "language": "python",
   "name": "python3"
  },
  "language_info": {
   "codemirror_mode": {
    "name": "ipython",
    "version": 3
   },
   "file_extension": ".py",
   "mimetype": "text/x-python",
   "name": "python",
   "nbconvert_exporter": "python",
   "pygments_lexer": "ipython3",
   "version": "3.9.7"
  }
 },
 "nbformat": 4,
 "nbformat_minor": 5
}
