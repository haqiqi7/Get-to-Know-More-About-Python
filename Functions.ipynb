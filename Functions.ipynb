{
  "nbformat": 4,
  "nbformat_minor": 0,
  "metadata": {
    "colab": {
      "name": "Functions.ipynb",
      "provenance": []
    },
    "kernelspec": {
      "name": "python3",
      "display_name": "Python 3"
    },
    "language_info": {
      "name": "python"
    }
  },
  "cells": [
    {
      "cell_type": "markdown",
      "source": [
        "This notebook is created by **Sintaks Group**, with the following members:\n",
        "1. Hasballah Askar\n",
        "2. Galang Setia Nugroho\n",
        "3. Khalishah Fiddina\n",
        "4. Tifani Amalina\n",
        "5. Muhammad Ilham Hakiqi"
      ],
      "metadata": {
        "id": "3Q3eeozlvccZ"
      }
    },
    {
      "cell_type": "markdown",
      "source": [
        "## **Functions**\n",
        "In this notebook, we will show you about the basic of Functions in Python. \n",
        "In math, **Functions** is a process that relates between an input and an output. **In Python**, it's also a way to organize codes for reusability. Python already provides built-in functions, but we can still make our own functions.\n",
        "<br>These are the contents covered in this notebook:\n",
        "1. Defining a Function\n",
        "2. Calling a Function\n",
        "3. Arguments and Parameters\n",
        "4. Return\n",
        "5. Pass by Reference vs Value"
      ],
      "metadata": {
        "id": "rA9xfjWp3GDK"
      }
    },
    {
      "cell_type": "markdown",
      "source": [
        "### **1. Defining a Function**"
      ],
      "metadata": {
        "id": "29oZGkSPc0q9"
      }
    },
    {
      "cell_type": "markdown",
      "source": [
        "- A function in Python is defined with the use of keyword **def** followed by the name of the function and parenthesis ().\n",
        "- In function, the block of code started with a colon (:) and indentation.\n",
        "- We could also add **docstring**, a documentation string used to describe the function. But this is optional."
      ],
      "metadata": {
        "id": "I3y1_14EesrF"
      }
    },
    {
      "cell_type": "code",
      "execution_count": null,
      "metadata": {
        "id": "X8TbpXCSav7m"
      },
      "outputs": [],
      "source": [
        "def greetings():\n",
        "  print(\"Hello, world!\")"
      ]
    },
    {
      "cell_type": "markdown",
      "source": [
        "### **2. Calling a Function**"
      ],
      "metadata": {
        "id": "XcDvyk_JgZEK"
      }
    },
    {
      "cell_type": "markdown",
      "source": [
        "To call a function, use the function name followed by parenthesis"
      ],
      "metadata": {
        "id": "1NYnmDfggXRr"
      }
    },
    {
      "cell_type": "code",
      "source": [
        "greetings()"
      ],
      "metadata": {
        "colab": {
          "base_uri": "https://localhost:8080/"
        },
        "id": "CKvovwyEgyWV",
        "outputId": "bf41cc0c-195e-4e74-f5e2-b384e821c7f8"
      },
      "execution_count": null,
      "outputs": [
        {
          "output_type": "stream",
          "name": "stdout",
          "text": [
            "Hello, world!\n"
          ]
        }
      ]
    },
    {
      "cell_type": "markdown",
      "source": [
        "### **3. Arguments and Parameters**"
      ],
      "metadata": {
        "id": "OqD_H2S-g6Q2"
      }
    },
    {
      "cell_type": "markdown",
      "source": [
        "Working with function, we can pass information into a function itself, specified after the function name, inside the parenthesis. And the terms used for that are **Argument** and **Parameter**. Here's more explanation about the difference between an Argument and a Parameter:\n",
        "- A parameter is the value listed inside the parentheses in the function definition.\n",
        "- An argument is the value that is sent to the function when it is called."
      ],
      "metadata": {
        "id": "eqcFPoGfg6Q3"
      }
    },
    {
      "cell_type": "markdown",
      "source": [
        "Defining an \"add\" function with a parameter"
      ],
      "metadata": {
        "id": "oB6q5ODnkR87"
      }
    },
    {
      "cell_type": "code",
      "source": [
        "def add(x):   # in this function definition, x is a parameter\n",
        "  added = x + 2\n",
        "  print(\"{} added with 2 is {}\".format(x, added))"
      ],
      "metadata": {
        "id": "1Z84mqrcg6Q3"
      },
      "execution_count": null,
      "outputs": []
    },
    {
      "cell_type": "markdown",
      "source": [
        "Calling \"add\" function with an argument"
      ],
      "metadata": {
        "id": "5zKO8jpmnNA0"
      }
    },
    {
      "cell_type": "code",
      "source": [
        "add(3)        # in this function call, 3 is an argument"
      ],
      "metadata": {
        "colab": {
          "base_uri": "https://localhost:8080/"
        },
        "id": "KjniKLcynUMp",
        "outputId": "1916d7b3-0e03-42ac-825f-a94743959d62"
      },
      "execution_count": null,
      "outputs": [
        {
          "output_type": "stream",
          "name": "stdout",
          "text": [
            "3 added with 2 is 5\n"
          ]
        }
      ]
    },
    {
      "cell_type": "markdown",
      "source": [
        "You can add as many arguments as you want, just separate them with a comma. Check out the example below."
      ],
      "metadata": {
        "id": "oFXmAqCEnbiG"
      }
    },
    {
      "cell_type": "code",
      "source": [
        "def mul(x, y):\n",
        "  multiplied = x * y\n",
        "  print(\"{} multiplied with {} is {}\".format(x, y, multiplied))\n",
        "\n",
        "mul(3, 4)"
      ],
      "metadata": {
        "colab": {
          "base_uri": "https://localhost:8080/"
        },
        "id": "yRdLr_ZFnyoK",
        "outputId": "9cd41b90-0091-47fe-96ee-c3a8ad5292be"
      },
      "execution_count": null,
      "outputs": [
        {
          "output_type": "stream",
          "name": "stdout",
          "text": [
            "3 multiplied with 4 is 12\n"
          ]
        }
      ]
    },
    {
      "cell_type": "markdown",
      "source": [
        "### **4. Return**"
      ],
      "metadata": {
        "id": "wn49fjSHo7kp"
      }
    },
    {
      "cell_type": "markdown",
      "source": [
        "A **return [*expression*]** statement is used to make program execution exit the current function state, while also returning a specified value. But we can also make the function to return nothing with **return *none***."
      ],
      "metadata": {
        "id": "_NxYEKsQo7ku"
      }
    },
    {
      "cell_type": "markdown",
      "source": [
        "Functions defined earlier don't have any **return** statement. So, in other words, they return nothing or **return _none_** is used. A function that doesn't return any value often called as a **procedure**.\n",
        "\n",
        "Take a look at this example."
      ],
      "metadata": {
        "id": "nyXCvSjzo7kv"
      }
    },
    {
      "cell_type": "code",
      "source": [
        "def add(x):\n",
        "  added = x + 2\n",
        "  print(\"{} added with 2 is {}\".format(x, added))\n",
        "\n",
        "addition = add(2)\n",
        "print(\"Return value of add function =\", addition)"
      ],
      "metadata": {
        "colab": {
          "base_uri": "https://localhost:8080/"
        },
        "id": "iSqC6VUVo7k6",
        "outputId": "6338805c-04d1-4720-d5fe-ef5cfd6b3027"
      },
      "execution_count": null,
      "outputs": [
        {
          "output_type": "stream",
          "name": "stdout",
          "text": [
            "2 added with 2 is 4\n",
            "Return value of add function = None\n"
          ]
        }
      ]
    },
    {
      "cell_type": "markdown",
      "source": [
        "Now, let's modify the function that's defined earlier so that it returns a value."
      ],
      "metadata": {
        "id": "IRL5pyMBsG-V"
      }
    },
    {
      "cell_type": "code",
      "source": [
        "def add(x):\n",
        "  added = x + 2\n",
        "  print(\"{} added with 2 is {}\".format(x, added))\n",
        "  return added\n",
        "\n",
        "addition = add(2)\n",
        "print(\"Return value of add function =\", addition)"
      ],
      "metadata": {
        "colab": {
          "base_uri": "https://localhost:8080/"
        },
        "id": "y7-eLTwIq5h6",
        "outputId": "2681c60b-d790-49d4-a993-63e20de0082b"
      },
      "execution_count": null,
      "outputs": [
        {
          "output_type": "stream",
          "name": "stdout",
          "text": [
            "2 added with 2 is 4\n",
            "Return value of add function = 4\n"
          ]
        }
      ]
    },
    {
      "cell_type": "markdown",
      "source": [
        "### **5. Pass by Reference vs Value**"
      ],
      "metadata": {
        "id": "MK0sEAq2tNjW"
      }
    },
    {
      "cell_type": "markdown",
      "source": [
        "- **Pass by Reference** means that the argument you're passing to the function is **a reference to a variable that already exists** in memory rather than an independent copy of that variable. Any operation performed by the function on the variable **will be directly reflected** to the function caller.\n",
        "\n",
        "- **Pass by Value** means that the function is provided with **a copy of the argument variable** passed to it by the caller. So, **the original variable stays intact** and all changes made are to a copy of the same and **stored at different memory locations**."
      ],
      "metadata": {
        "id": "17MBcmu-tNjW"
      }
    },
    {
      "cell_type": "markdown",
      "source": [
        "For example, let's try to modify a list that's passed to a function:"
      ],
      "metadata": {
        "id": "Nz2lE3GOPZvH"
      }
    },
    {
      "cell_type": "code",
      "execution_count": null,
      "metadata": {
        "colab": {
          "base_uri": "https://localhost:8080/"
        },
        "id": "hgU9E9TgtNjW",
        "outputId": "65d24cdc-b01b-411c-acb1-f9847fab8f2f"
      },
      "outputs": [
        {
          "output_type": "stream",
          "name": "stdout",
          "text": [
            "Before, a_list = [1, 3]\n",
            "Received list = [1, 3]\n",
            "Modified list = [1, 3, 7]\n",
            "After, a_list = [1, 3, 7]\n"
          ]
        }
      ],
      "source": [
        "def modify_content(b_list):\n",
        "  print(\"Received list =\", b_list)\n",
        "  b_list.append(7)\n",
        "  print(\"Modified list =\", b_list)\n",
        "\n",
        "a_list = [1, 3]\n",
        "\n",
        "print(\"Before, a_list =\", a_list)\n",
        "modify_content(a_list)\n",
        "print(\"After, a_list =\", a_list)"
      ]
    },
    {
      "cell_type": "markdown",
      "source": [
        "Since the parameter passed in ```modify_content(b_list)``` is a reference to ```a_list```, not a copy of it, we can perform the mutating list methods to change it and have the changes reflected in the outer scope."
      ],
      "metadata": {
        "id": "6xbXAW4-RLkr"
      }
    },
    {
      "cell_type": "markdown",
      "source": [
        "This time, let's try to change the reference that was passed in as a parameter:"
      ],
      "metadata": {
        "id": "ytYol2VwR7y-"
      }
    },
    {
      "cell_type": "code",
      "source": [
        "def modify_content(b_list):\n",
        "  print(\"Received list =\", b_list)\n",
        "  b_list = [9, 8]\n",
        "  print(\"Modified list =\", b_list)\n",
        "\n",
        "a_list = [1, 3]\n",
        "\n",
        "print(\"Before, a_list =\", a_list)\n",
        "modify_content(a_list)\n",
        "print(\"After, a_list =\", a_list)"
      ],
      "metadata": {
        "colab": {
          "base_uri": "https://localhost:8080/"
        },
        "id": "1Zhl1fktKjzf",
        "outputId": "3ce8fd1d-c6a0-43e2-87f5-b79da773ee14"
      },
      "execution_count": null,
      "outputs": [
        {
          "output_type": "stream",
          "name": "stdout",
          "text": [
            "Before, a_list = [1, 3]\n",
            "Received list = [1, 3]\n",
            "Modified list = [9, 8]\n",
            "After, a_list = [1, 3]\n"
          ]
        }
      ]
    },
    {
      "cell_type": "markdown",
      "source": [
        "Since the ```b_list``` parameter was passed by value, assigning a new list to it had no effect to the original variable outside the function. The ```b_list``` inside the function was a copy of the ```a_list``` reference, and we had ```b_list``` point to a new list, but there was no way to change where ```a_list``` pointed."
      ],
      "metadata": {
        "id": "S8-krlKOSUFq"
      }
    }
  ]
}