{
  "nbformat": 4,
  "nbformat_minor": 0,
  "metadata": {
    "colab": {
      "name": "For, While, Break, Continue.ipynb",
      "provenance": []
    },
    "kernelspec": {
      "name": "python3",
      "display_name": "Python 3"
    },
    "language_info": {
      "name": "python"
    }
  },
  "cells": [
    {
      "cell_type": "markdown",
      "source": [
        "**For**"
      ],
      "metadata": {
        "id": "jPK1_W1DTbOp"
      }
    },
    {
      "cell_type": "markdown",
      "source": [
        "A for loop is used for iterating over a sequence (that is either a list, a tuple, a dictionary, a set, or a string).\n",
        "\n",
        "This is less like the for keyword in other programming languages, and works more like an iterator method as found in other object-orientated programming languages.\n",
        "\n",
        "With the for loop we can execute a set of statements, once for each item in a list, tuple, set etc.\n"
      ],
      "metadata": {
        "id": "zCuJiESxYiCv"
      }
    },
    {
      "cell_type": "code",
      "source": [
        "for i in \"data\":\n",
        "  print(i)"
      ],
      "metadata": {
        "colab": {
          "base_uri": "https://localhost:8080/"
        },
        "id": "Vbx3oG81c91a",
        "outputId": "b5f2d6ec-c36b-4678-c3f3-9614a7b225aa"
      },
      "execution_count": 1,
      "outputs": [
        {
          "output_type": "stream",
          "name": "stdout",
          "text": [
            "d\n",
            "a\n",
            "t\n",
            "a\n"
          ]
        }
      ]
    },
    {
      "cell_type": "code",
      "source": [
        "for i in 'data':\n",
        "  print(\"alphabet {}\". format(i))"
      ],
      "metadata": {
        "colab": {
          "base_uri": "https://localhost:8080/"
        },
        "id": "2tHxebahTzo4",
        "outputId": "c339d345-aea2-41dd-8d18-7661c728f08f"
      },
      "execution_count": 2,
      "outputs": [
        {
          "output_type": "stream",
          "name": "stdout",
          "text": [
            "alphabet d\n",
            "alphabet a\n",
            "alphabet t\n",
            "alphabet a\n"
          ]
        }
      ]
    },
    {
      "cell_type": "code",
      "source": [
        "color = ['red', 'yellow', 'green']\n",
        "\n",
        "for i in color:\n",
        "  print(\"color {}\".format(i))"
      ],
      "metadata": {
        "colab": {
          "base_uri": "https://localhost:8080/"
        },
        "id": "lMamBypYdFfV",
        "outputId": "ca13c0e7-f5ce-46ca-ca7b-9fd373c2268f"
      },
      "execution_count": 3,
      "outputs": [
        {
          "output_type": "stream",
          "name": "stdout",
          "text": [
            "color red\n",
            "color yellow\n",
            "color green\n"
          ]
        }
      ]
    },
    {
      "cell_type": "code",
      "source": [
        "for i in range(3):\n",
        "  print(i)"
      ],
      "metadata": {
        "colab": {
          "base_uri": "https://localhost:8080/"
        },
        "id": "Cal96Lw_eSJ9",
        "outputId": "149905f7-a326-4610-9075-ba83c86aa1fd"
      },
      "execution_count": 4,
      "outputs": [
        {
          "output_type": "stream",
          "name": "stdout",
          "text": [
            "0\n",
            "1\n",
            "2\n"
          ]
        }
      ]
    },
    {
      "cell_type": "code",
      "source": [
        "for i in range(0,3):\n",
        "  print(i)"
      ],
      "metadata": {
        "colab": {
          "base_uri": "https://localhost:8080/"
        },
        "id": "IX_NURvnU0IG",
        "outputId": "29cf6f64-6aba-44de-baef-2803d4a729fe"
      },
      "execution_count": 5,
      "outputs": [
        {
          "output_type": "stream",
          "name": "stdout",
          "text": [
            "0\n",
            "1\n",
            "2\n"
          ]
        }
      ]
    },
    {
      "cell_type": "markdown",
      "source": [
        "- For Multilevel"
      ],
      "metadata": {
        "id": "7LJBIRl-VC9n"
      }
    },
    {
      "cell_type": "code",
      "source": [
        "for row in range(3):\n",
        "  for col in range(3):\n",
        "    if row == 0 and col <= 2:\n",
        "      print(\"*\", end = \" \")\n",
        "    elif row == 1 and col <= 1:\n",
        "      print(\"*\", end = \" \")\n",
        "    elif row == 2 and col == 0:\n",
        "      print(\"*\", end = \" \")\n",
        "  print()"
      ],
      "metadata": {
        "colab": {
          "base_uri": "https://localhost:8080/"
        },
        "id": "T_5rJayvVAUn",
        "outputId": "592acfdf-3fdd-4ebf-f6cb-0e3490c9d7ba"
      },
      "execution_count": 6,
      "outputs": [
        {
          "output_type": "stream",
          "name": "stdout",
          "text": [
            "* * * \n",
            "* * \n",
            "* \n"
          ]
        }
      ]
    },
    {
      "cell_type": "markdown",
      "source": [
        "**While**"
      ],
      "metadata": {
        "id": "JlQAzzIgTfWI"
      }
    },
    {
      "cell_type": "markdown",
      "source": [
        "The while loop in Python is used to iterate over a block of code as long as the test expression (condition) is true.\n",
        "\n",
        "We generally use this loop when we don't know the number of times to iterate beforehand."
      ],
      "metadata": {
        "id": "j_63jQB1Y7TP"
      }
    },
    {
      "cell_type": "code",
      "execution_count": 8,
      "metadata": {
        "colab": {
          "base_uri": "https://localhost:8080/"
        },
        "id": "BoS6lF6gm-0K",
        "outputId": "eee16624-98a5-444f-d8ef-94240d5daac0"
      },
      "outputs": [
        {
          "output_type": "stream",
          "name": "stdout",
          "text": [
            "2\n",
            "number 2\n"
          ]
        }
      ],
      "source": [
        "number = int(input())\n",
        "\n",
        "while (number < 3):\n",
        "  print(\"number {}\".format(number))\n",
        "  number = number + 1"
      ]
    },
    {
      "cell_type": "code",
      "source": [
        "number = int(input())\n",
        "\n",
        "while (number < 10):\n",
        "  print(\"number {}\".format(number))\n",
        "  number = number + 2"
      ],
      "metadata": {
        "colab": {
          "base_uri": "https://localhost:8080/"
        },
        "id": "HNUZSzIxoBkx",
        "outputId": "2fc72ff9-02ae-4321-c47d-d6255c58a8d3"
      },
      "execution_count": 11,
      "outputs": [
        {
          "output_type": "stream",
          "name": "stdout",
          "text": [
            "5\n",
            "number 5\n",
            "number 7\n",
            "number 9\n"
          ]
        }
      ]
    },
    {
      "cell_type": "markdown",
      "source": [
        "**Break**"
      ],
      "metadata": {
        "id": "SE6h_altTd0o"
      }
    },
    {
      "cell_type": "markdown",
      "source": [
        "The break statement in Python terminates the current loop and resumes execution at the next statement, just like the traditional break found in C.\n",
        "\n",
        "The most common use for break is when some external condition is triggered requiring a hasty exit from a loop. The break statement can be used in both while and for loops.\n"
      ],
      "metadata": {
        "id": "rMPBPnarY_OX"
      }
    },
    {
      "cell_type": "code",
      "execution_count": 12,
      "metadata": {
        "colab": {
          "base_uri": "https://localhost:8080/"
        },
        "id": "umUfNN8Itdk2",
        "outputId": "6693eede-a1b0-4e53-86cb-bba741ca57fd"
      },
      "outputs": [
        {
          "output_type": "stream",
          "name": "stdout",
          "text": [
            "D\n",
            "a\n",
            "t\n",
            "a\n",
            " \n",
            "S\n",
            "c\n",
            "i\n"
          ]
        }
      ],
      "source": [
        "for i in \"Data Science\":\n",
        "  if i == \"e\":\n",
        "    break\n",
        "  print(i)"
      ]
    },
    {
      "cell_type": "code",
      "source": [
        "for i in \"I believe in yesterday\":\n",
        "  if i == \"d\":\n",
        "    break\n",
        "  print(i)"
      ],
      "metadata": {
        "colab": {
          "base_uri": "https://localhost:8080/"
        },
        "id": "w-t8Q35Pt8LF",
        "outputId": "d4f9ce72-d47b-4077-93d9-e0f5a521bc90"
      },
      "execution_count": 15,
      "outputs": [
        {
          "output_type": "stream",
          "name": "stdout",
          "text": [
            "I\n",
            " \n",
            "b\n",
            "e\n",
            "l\n",
            "i\n",
            "e\n",
            "v\n",
            "e\n",
            " \n",
            "i\n",
            "n\n",
            " \n",
            "y\n",
            "e\n",
            "s\n",
            "t\n",
            "e\n",
            "r\n"
          ]
        }
      ]
    },
    {
      "cell_type": "markdown",
      "source": [
        "**Continue**"
      ],
      "metadata": {
        "id": "dYqrDMPxTiZo"
      }
    },
    {
      "cell_type": "markdown",
      "source": [
        "The continue statement in Python returns the control to the beginning of the while loop. \n",
        "\n",
        "The continue statement rejects all the remaining statements in the current iteration of the loop and moves the control back to the top of the loop.\n",
        "\n",
        "The continue statement can be used in both while and for loops."
      ],
      "metadata": {
        "id": "uZw2eSjUZc0A"
      }
    },
    {
      "cell_type": "code",
      "execution_count": 13,
      "metadata": {
        "colab": {
          "base_uri": "https://localhost:8080/"
        },
        "id": "oLrrxfedwyoW",
        "outputId": "8a8a904a-1639-46a9-9082-248403ba8d8a"
      },
      "outputs": [
        {
          "output_type": "stream",
          "name": "stdout",
          "text": [
            "D\n",
            "t\n"
          ]
        }
      ],
      "source": [
        "for i in \"Data\":\n",
        "  if i == \"a\":\n",
        "    continue\n",
        "  print(i)"
      ]
    },
    {
      "cell_type": "code",
      "source": [
        "for i in \"I believe in yesterday\":\n",
        "  if i == \"a\":\n",
        "    continue\n",
        "  elif i == \"e\":\n",
        "    continue\n",
        "  print(i)"
      ],
      "metadata": {
        "colab": {
          "base_uri": "https://localhost:8080/"
        },
        "id": "RQcx_I1Ux470",
        "outputId": "d11faeba-3e56-48b7-bafb-ac143a3d5d7a"
      },
      "execution_count": 14,
      "outputs": [
        {
          "output_type": "stream",
          "name": "stdout",
          "text": [
            "I\n",
            " \n",
            "b\n",
            "l\n",
            "i\n",
            "v\n",
            " \n",
            "i\n",
            "n\n",
            " \n",
            "y\n",
            "s\n",
            "t\n",
            "r\n",
            "d\n",
            "y\n"
          ]
        }
      ]
    }
  ]
}